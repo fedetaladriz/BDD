{
 "cells": [
  {
   "cell_type": "code",
   "execution_count": 60,
   "metadata": {
    "collapsed": true
   },
   "outputs": [],
   "source": [
    "import pandas as pd"
   ]
  },
  {
   "cell_type": "code",
   "execution_count": 61,
   "metadata": {
    "collapsed": false
   },
   "outputs": [
    {
     "data": {
      "text/html": [
       "<div>\n",
       "<table border=\"1\" class=\"dataframe\">\n",
       "  <thead>\n",
       "    <tr style=\"text-align: right;\">\n",
       "      <th></th>\n",
       "      <th>id_compra</th>\n",
       "      <th>fecha</th>\n",
       "      <th>id_tienda</th>\n",
       "      <th>id_usuario</th>\n",
       "    </tr>\n",
       "  </thead>\n",
       "  <tbody>\n",
       "    <tr>\n",
       "      <th>0</th>\n",
       "      <td>0</td>\n",
       "      <td>1/2/13</td>\n",
       "      <td>136</td>\n",
       "      <td>90</td>\n",
       "    </tr>\n",
       "    <tr>\n",
       "      <th>1</th>\n",
       "      <td>1</td>\n",
       "      <td>1/5/13</td>\n",
       "      <td>123</td>\n",
       "      <td>33</td>\n",
       "    </tr>\n",
       "    <tr>\n",
       "      <th>2</th>\n",
       "      <td>2</td>\n",
       "      <td>1/7/13</td>\n",
       "      <td>139</td>\n",
       "      <td>11</td>\n",
       "    </tr>\n",
       "    <tr>\n",
       "      <th>3</th>\n",
       "      <td>3</td>\n",
       "      <td>1/10/13</td>\n",
       "      <td>123</td>\n",
       "      <td>87</td>\n",
       "    </tr>\n",
       "    <tr>\n",
       "      <th>4</th>\n",
       "      <td>4</td>\n",
       "      <td>1/11/13</td>\n",
       "      <td>123</td>\n",
       "      <td>23</td>\n",
       "    </tr>\n",
       "  </tbody>\n",
       "</table>\n",
       "</div>"
      ],
      "text/plain": [
       "   id_compra    fecha  id_tienda  id_usuario\n",
       "0          0   1/2/13        136          90\n",
       "1          1   1/5/13        123          33\n",
       "2          2   1/7/13        139          11\n",
       "3          3  1/10/13        123          87\n",
       "4          4  1/11/13        123          23"
      ]
     },
     "execution_count": 61,
     "metadata": {},
     "output_type": "execute_result"
    }
   ],
   "source": [
    "compra_productos = pd.read_csv(\"CompraProduct-Par.csv\")\n",
    "compra_productos.head()"
   ]
  },
  {
   "cell_type": "code",
   "execution_count": 62,
   "metadata": {
    "collapsed": false,
    "scrolled": true
   },
   "outputs": [
    {
     "data": {
      "text/html": [
       "<div>\n",
       "<table border=\"1\" class=\"dataframe\">\n",
       "  <thead>\n",
       "    <tr style=\"text-align: right;\">\n",
       "      <th></th>\n",
       "      <th>id_compraservicio</th>\n",
       "      <th>id_tienda_s</th>\n",
       "      <th>id_usuario</th>\n",
       "      <th>fecha_de_compra</th>\n",
       "      <th>fecha_expiracion</th>\n",
       "    </tr>\n",
       "  </thead>\n",
       "  <tbody>\n",
       "    <tr>\n",
       "      <th>0</th>\n",
       "      <td>0</td>\n",
       "      <td>143</td>\n",
       "      <td>1</td>\n",
       "      <td>2/05/2014</td>\n",
       "      <td>26/07/2015</td>\n",
       "    </tr>\n",
       "    <tr>\n",
       "      <th>1</th>\n",
       "      <td>1</td>\n",
       "      <td>145</td>\n",
       "      <td>0</td>\n",
       "      <td>15/02/2014</td>\n",
       "      <td>12/07/2015</td>\n",
       "    </tr>\n",
       "    <tr>\n",
       "      <th>2</th>\n",
       "      <td>2</td>\n",
       "      <td>141</td>\n",
       "      <td>8</td>\n",
       "      <td>9/12/2014</td>\n",
       "      <td>19/12/2015</td>\n",
       "    </tr>\n",
       "    <tr>\n",
       "      <th>3</th>\n",
       "      <td>3</td>\n",
       "      <td>145</td>\n",
       "      <td>7</td>\n",
       "      <td>29/05/2014</td>\n",
       "      <td>25/10/2015</td>\n",
       "    </tr>\n",
       "    <tr>\n",
       "      <th>4</th>\n",
       "      <td>4</td>\n",
       "      <td>159</td>\n",
       "      <td>14</td>\n",
       "      <td>22/10/2014</td>\n",
       "      <td>10/04/2015</td>\n",
       "    </tr>\n",
       "  </tbody>\n",
       "</table>\n",
       "</div>"
      ],
      "text/plain": [
       "   id_compraservicio  id_tienda_s  id_usuario fecha_de_compra fecha_expiracion\n",
       "0                  0          143           1       2/05/2014       26/07/2015\n",
       "1                  1          145           0      15/02/2014       12/07/2015\n",
       "2                  2          141           8       9/12/2014       19/12/2015\n",
       "3                  3          145           7      29/05/2014       25/10/2015\n",
       "4                  4          159          14      22/10/2014       10/04/2015"
      ]
     },
     "execution_count": 62,
     "metadata": {},
     "output_type": "execute_result"
    }
   ],
   "source": [
    "compra_servicios = pd.read_csv(\"CompraServicio.csv\")\n",
    "compra_servicios.head()"
   ]
  },
  {
   "cell_type": "code",
   "execution_count": 63,
   "metadata": {
    "collapsed": false
   },
   "outputs": [
    {
     "data": {
      "text/html": [
       "<div>\n",
       "<table border=\"1\" class=\"dataframe\">\n",
       "  <thead>\n",
       "    <tr style=\"text-align: right;\">\n",
       "      <th></th>\n",
       "      <th>id_compra</th>\n",
       "      <th>id_producto</th>\n",
       "      <th>cantidad</th>\n",
       "    </tr>\n",
       "  </thead>\n",
       "  <tbody>\n",
       "    <tr>\n",
       "      <th>0</th>\n",
       "      <td>0</td>\n",
       "      <td>7804907236110</td>\n",
       "      <td>50</td>\n",
       "    </tr>\n",
       "    <tr>\n",
       "      <th>1</th>\n",
       "      <td>1</td>\n",
       "      <td>7802234957111</td>\n",
       "      <td>69</td>\n",
       "    </tr>\n",
       "    <tr>\n",
       "      <th>2</th>\n",
       "      <td>2</td>\n",
       "      <td>7806069081669</td>\n",
       "      <td>28</td>\n",
       "    </tr>\n",
       "    <tr>\n",
       "      <th>3</th>\n",
       "      <td>3</td>\n",
       "      <td>7805367674474</td>\n",
       "      <td>17</td>\n",
       "    </tr>\n",
       "    <tr>\n",
       "      <th>4</th>\n",
       "      <td>4</td>\n",
       "      <td>7806533722043</td>\n",
       "      <td>23</td>\n",
       "    </tr>\n",
       "  </tbody>\n",
       "</table>\n",
       "</div>"
      ],
      "text/plain": [
       "   id_compra    id_producto  cantidad\n",
       "0          0  7804907236110        50\n",
       "1          1  7802234957111        69\n",
       "2          2  7806069081669        28\n",
       "3          3  7805367674474        17\n",
       "4          4  7806533722043        23"
      ]
     },
     "execution_count": 63,
     "metadata": {},
     "output_type": "execute_result"
    }
   ],
   "source": [
    "detalle_compra_producto = pd.read_csv(\"ProductoCompraProducto.csv\")\n",
    "detalle_compra_producto.head()"
   ]
  },
  {
   "cell_type": "code",
   "execution_count": 64,
   "metadata": {
    "collapsed": false
   },
   "outputs": [],
   "source": [
    "detalle_compra_servicio = pd.read_csv(\"servicioscompra.csv\")"
   ]
  },
  {
   "cell_type": "code",
   "execution_count": 54,
   "metadata": {
    "collapsed": false
   },
   "outputs": [
    {
     "data": {
      "text/html": [
       "<div>\n",
       "<table border=\"1\" class=\"dataframe\">\n",
       "  <thead>\n",
       "    <tr style=\"text-align: right;\">\n",
       "      <th></th>\n",
       "      <th>id_compraservicio</th>\n",
       "      <th>id_servicio</th>\n",
       "      <th>fecha_expiracion</th>\n",
       "    </tr>\n",
       "  </thead>\n",
       "  <tbody>\n",
       "    <tr>\n",
       "      <th>0</th>\n",
       "      <td>0</td>\n",
       "      <td>0</td>\n",
       "      <td>26/07/2015</td>\n",
       "    </tr>\n",
       "    <tr>\n",
       "      <th>1</th>\n",
       "      <td>1</td>\n",
       "      <td>0</td>\n",
       "      <td>12/07/2015</td>\n",
       "    </tr>\n",
       "    <tr>\n",
       "      <th>2</th>\n",
       "      <td>2</td>\n",
       "      <td>6</td>\n",
       "      <td>19/12/2015</td>\n",
       "    </tr>\n",
       "    <tr>\n",
       "      <th>3</th>\n",
       "      <td>3</td>\n",
       "      <td>0</td>\n",
       "      <td>25/10/2015</td>\n",
       "    </tr>\n",
       "    <tr>\n",
       "      <th>4</th>\n",
       "      <td>4</td>\n",
       "      <td>8</td>\n",
       "      <td>10/04/2015</td>\n",
       "    </tr>\n",
       "  </tbody>\n",
       "</table>\n",
       "</div>"
      ],
      "text/plain": [
       "  id_compraservicio id_servicio fecha_expiracion\n",
       "0                 0           0       26/07/2015\n",
       "1                 1           0       12/07/2015\n",
       "2                 2           6       19/12/2015\n",
       "3                 3           0       25/10/2015\n",
       "4                 4           8       10/04/2015"
      ]
     },
     "execution_count": 54,
     "metadata": {},
     "output_type": "execute_result"
    }
   ],
   "source": [
    "detalle_compra_servicio_nuevo = pd.DataFrame(detalle_compra_servicio, columns=[\"id_compraservicio\", \"id_servicio\"])\n",
    "detalle_compra_servicio_nuevo = pd.concat([detalle_compra_servicio_nuevo, compra_servicios], axis=1, join='inner').drop([\"id_tienda_s\", \"id_usuario\", \"fecha_de_compra\"], axis=1)\n",
    "detalle_compra_servicio = detalle_compra_servicio_nuevo.T.drop_duplicates().T\n",
    "detalle_compra_servicio.head()"
   ]
  },
  {
   "cell_type": "code",
   "execution_count": 55,
   "metadata": {
    "collapsed": false
   },
   "outputs": [
    {
     "data": {
      "text/html": [
       "<div>\n",
       "<table border=\"1\" class=\"dataframe\">\n",
       "  <thead>\n",
       "    <tr style=\"text-align: right;\">\n",
       "      <th></th>\n",
       "      <th>id_compraservicio</th>\n",
       "      <th>id_tienda_s</th>\n",
       "      <th>id_usuario</th>\n",
       "      <th>fecha_de_compra</th>\n",
       "    </tr>\n",
       "  </thead>\n",
       "  <tbody>\n",
       "    <tr>\n",
       "      <th>0</th>\n",
       "      <td>98</td>\n",
       "      <td>143</td>\n",
       "      <td>1</td>\n",
       "      <td>2/05/2014</td>\n",
       "    </tr>\n",
       "    <tr>\n",
       "      <th>1</th>\n",
       "      <td>99</td>\n",
       "      <td>145</td>\n",
       "      <td>0</td>\n",
       "      <td>15/02/2014</td>\n",
       "    </tr>\n",
       "    <tr>\n",
       "      <th>2</th>\n",
       "      <td>100</td>\n",
       "      <td>141</td>\n",
       "      <td>8</td>\n",
       "      <td>9/12/2014</td>\n",
       "    </tr>\n",
       "    <tr>\n",
       "      <th>3</th>\n",
       "      <td>101</td>\n",
       "      <td>145</td>\n",
       "      <td>7</td>\n",
       "      <td>29/05/2014</td>\n",
       "    </tr>\n",
       "    <tr>\n",
       "      <th>4</th>\n",
       "      <td>102</td>\n",
       "      <td>159</td>\n",
       "      <td>14</td>\n",
       "      <td>22/10/2014</td>\n",
       "    </tr>\n",
       "  </tbody>\n",
       "</table>\n",
       "</div>"
      ],
      "text/plain": [
       "   id_compraservicio  id_tienda_s  id_usuario fecha_de_compra\n",
       "0                 98          143           1       2/05/2014\n",
       "1                 99          145           0      15/02/2014\n",
       "2                100          141           8       9/12/2014\n",
       "3                101          145           7      29/05/2014\n",
       "4                102          159          14      22/10/2014"
      ]
     },
     "execution_count": 55,
     "metadata": {},
     "output_type": "execute_result"
    }
   ],
   "source": [
    "compra_servicios = compra_servicios.drop(\"fecha_expiracion\", axis=1)\n",
    "compra_servicios[\"id_compraservicio\"] += len(compra_productos)\n",
    "compra_servicios.head()"
   ]
  },
  {
   "cell_type": "code",
   "execution_count": 56,
   "metadata": {
    "collapsed": false
   },
   "outputs": [
    {
     "data": {
      "text/html": [
       "<div>\n",
       "<table border=\"1\" class=\"dataframe\">\n",
       "  <thead>\n",
       "    <tr style=\"text-align: right;\">\n",
       "      <th></th>\n",
       "      <th>id_compraservicio</th>\n",
       "      <th>id_servicio</th>\n",
       "      <th>fecha_expiracion</th>\n",
       "    </tr>\n",
       "  </thead>\n",
       "  <tbody>\n",
       "    <tr>\n",
       "      <th>0</th>\n",
       "      <td>98</td>\n",
       "      <td>0</td>\n",
       "      <td>26/07/2015</td>\n",
       "    </tr>\n",
       "    <tr>\n",
       "      <th>1</th>\n",
       "      <td>99</td>\n",
       "      <td>0</td>\n",
       "      <td>12/07/2015</td>\n",
       "    </tr>\n",
       "    <tr>\n",
       "      <th>2</th>\n",
       "      <td>100</td>\n",
       "      <td>6</td>\n",
       "      <td>19/12/2015</td>\n",
       "    </tr>\n",
       "    <tr>\n",
       "      <th>3</th>\n",
       "      <td>101</td>\n",
       "      <td>0</td>\n",
       "      <td>25/10/2015</td>\n",
       "    </tr>\n",
       "    <tr>\n",
       "      <th>4</th>\n",
       "      <td>102</td>\n",
       "      <td>8</td>\n",
       "      <td>10/04/2015</td>\n",
       "    </tr>\n",
       "  </tbody>\n",
       "</table>\n",
       "</div>"
      ],
      "text/plain": [
       "  id_compraservicio id_servicio fecha_expiracion\n",
       "0                98           0       26/07/2015\n",
       "1                99           0       12/07/2015\n",
       "2               100           6       19/12/2015\n",
       "3               101           0       25/10/2015\n",
       "4               102           8       10/04/2015"
      ]
     },
     "execution_count": 56,
     "metadata": {},
     "output_type": "execute_result"
    }
   ],
   "source": [
    "detalle_compra_servicio[\"id_compraservicio\"] += len(compra_productos)\n",
    "detalle_compra_servicio.head()"
   ]
  },
  {
   "cell_type": "code",
   "execution_count": 57,
   "metadata": {
    "collapsed": true
   },
   "outputs": [],
   "source": [
    "new_columns = detalle_compra_servicio.columns.values\n",
    "new_columns[0] = 'id_compra'\n",
    "detalle_compra_servicio.columns = new_columns \n",
    "new_columns = compra_servicios.columns.values\n",
    "new_columns[0] = 'id_compra'\n",
    "compra_servicios.columns = new_columns "
   ]
  },
  {
   "cell_type": "code",
   "execution_count": 58,
   "metadata": {
    "collapsed": false
   },
   "outputs": [
    {
     "data": {
      "text/html": [
       "<div>\n",
       "<table border=\"1\" class=\"dataframe\">\n",
       "  <thead>\n",
       "    <tr style=\"text-align: right;\">\n",
       "      <th></th>\n",
       "      <th>id_compra</th>\n",
       "      <th>id_servicio</th>\n",
       "      <th>fecha_expiracion</th>\n",
       "    </tr>\n",
       "  </thead>\n",
       "  <tbody>\n",
       "    <tr>\n",
       "      <th>0</th>\n",
       "      <td>98</td>\n",
       "      <td>0</td>\n",
       "      <td>26/07/2015</td>\n",
       "    </tr>\n",
       "    <tr>\n",
       "      <th>1</th>\n",
       "      <td>99</td>\n",
       "      <td>0</td>\n",
       "      <td>12/07/2015</td>\n",
       "    </tr>\n",
       "    <tr>\n",
       "      <th>2</th>\n",
       "      <td>100</td>\n",
       "      <td>6</td>\n",
       "      <td>19/12/2015</td>\n",
       "    </tr>\n",
       "    <tr>\n",
       "      <th>3</th>\n",
       "      <td>101</td>\n",
       "      <td>0</td>\n",
       "      <td>25/10/2015</td>\n",
       "    </tr>\n",
       "    <tr>\n",
       "      <th>4</th>\n",
       "      <td>102</td>\n",
       "      <td>8</td>\n",
       "      <td>10/04/2015</td>\n",
       "    </tr>\n",
       "  </tbody>\n",
       "</table>\n",
       "</div>"
      ],
      "text/plain": [
       "  id_compra id_servicio fecha_expiracion\n",
       "0        98           0       26/07/2015\n",
       "1        99           0       12/07/2015\n",
       "2       100           6       19/12/2015\n",
       "3       101           0       25/10/2015\n",
       "4       102           8       10/04/2015"
      ]
     },
     "execution_count": 58,
     "metadata": {},
     "output_type": "execute_result"
    }
   ],
   "source": [
    "detalle_compra_servicio.head()"
   ]
  },
  {
   "cell_type": "code",
   "execution_count": 65,
   "metadata": {
    "collapsed": false
   },
   "outputs": [
    {
     "name": "stderr",
     "output_type": "stream",
     "text": [
      "/anaconda/lib/python3.6/site-packages/ipykernel/__main__.py:3: FutureWarning: sort(columns=....) is deprecated, use sort_values(by=.....)\n",
      "  app.launch_new_instance()\n"
     ]
    },
    {
     "data": {
      "text/html": [
       "<div>\n",
       "<table border=\"1\" class=\"dataframe\">\n",
       "  <thead>\n",
       "    <tr style=\"text-align: right;\">\n",
       "      <th></th>\n",
       "      <th>id_servicio</th>\n",
       "      <th>nombre</th>\n",
       "      <th>precio</th>\n",
       "      <th>descripcion</th>\n",
       "    </tr>\n",
       "  </thead>\n",
       "  <tbody>\n",
       "    <tr>\n",
       "      <th>0</th>\n",
       "      <td>0</td>\n",
       "      <td>Una cena para dos personas</td>\n",
       "      <td>$68.350,00</td>\n",
       "      <td>Lorem ipsum dolor sit amet, consectetur adipis...</td>\n",
       "    </tr>\n",
       "    <tr>\n",
       "      <th>11</th>\n",
       "      <td>2</td>\n",
       "      <td>Una porción de helado</td>\n",
       "      <td>$38.452,00</td>\n",
       "      <td>Ut enim ad minim veniam</td>\n",
       "    </tr>\n",
       "    <tr>\n",
       "      <th>5</th>\n",
       "      <td>3</td>\n",
       "      <td>Tres papas crujientes</td>\n",
       "      <td>$48.667,00</td>\n",
       "      <td>quis nostrud exercitation ullamco laboris nisi...</td>\n",
       "    </tr>\n",
       "    <tr>\n",
       "      <th>28</th>\n",
       "      <td>5</td>\n",
       "      <td>Una sesión de masaje descontracturante</td>\n",
       "      <td>$34.831,00</td>\n",
       "      <td>Excepteur sint occaecat cupidatat non proident</td>\n",
       "    </tr>\n",
       "    <tr>\n",
       "      <th>2</th>\n",
       "      <td>6</td>\n",
       "      <td>Tres entradas con bus al paseo de la playa</td>\n",
       "      <td>$28.812,00</td>\n",
       "      <td>sunt in culpa qui officia deserunt mollit anim...</td>\n",
       "    </tr>\n",
       "  </tbody>\n",
       "</table>\n",
       "</div>"
      ],
      "text/plain": [
       "    id_servicio                                      nombre      precio  \\\n",
       "0             0                  Una cena para dos personas  $68.350,00   \n",
       "11            2                       Una porción de helado  $38.452,00   \n",
       "5             3                       Tres papas crujientes  $48.667,00   \n",
       "28            5      Una sesión de masaje descontracturante  $34.831,00   \n",
       "2             6  Tres entradas con bus al paseo de la playa  $28.812,00   \n",
       "\n",
       "                                          descripcion  \n",
       "0   Lorem ipsum dolor sit amet, consectetur adipis...  \n",
       "11                            Ut enim ad minim veniam  \n",
       "5   quis nostrud exercitation ullamco laboris nisi...  \n",
       "28     Excepteur sint occaecat cupidatat non proident  \n",
       "2   sunt in culpa qui officia deserunt mollit anim...  "
      ]
     },
     "execution_count": 65,
     "metadata": {},
     "output_type": "execute_result"
    }
   ],
   "source": [
    "servicios = pd.DataFrame(detalle_compra_servicio, columns=[\"id_servicio\", \"nombre\", \"precio\", \"descripcion\"])\n",
    "servicios = servicios.drop_duplicates()\n",
    "servicios = servicios.sort([\"id_servicio\"], ascending=True)\n",
    "servicios.head()"
   ]
  },
  {
   "cell_type": "code",
   "execution_count": 66,
   "metadata": {
    "collapsed": false
   },
   "outputs": [
    {
     "data": {
      "text/html": [
       "<div>\n",
       "<table border=\"1\" class=\"dataframe\">\n",
       "  <thead>\n",
       "    <tr style=\"text-align: right;\">\n",
       "      <th></th>\n",
       "      <th>id_producto</th>\n",
       "      <th>nombre</th>\n",
       "      <th>descripcion</th>\n",
       "      <th>precio</th>\n",
       "    </tr>\n",
       "  </thead>\n",
       "  <tbody>\n",
       "    <tr>\n",
       "      <th>0</th>\n",
       "      <td>7801130794486</td>\n",
       "      <td>LÁMPARA DE CIELO 3 LUCES PYTON EGLO</td>\n",
       "      <td>Lámpara de Techo 3 luces Pyton Eglo\\n\\nEglo, r...</td>\n",
       "      <td>$162.000,00</td>\n",
       "    </tr>\n",
       "    <tr>\n",
       "      <th>1</th>\n",
       "      <td>7801305809069</td>\n",
       "      <td>BASEMENT HOME LÁMPARA ARTICULADA SOBREMESA</td>\n",
       "      <td>Lámpara Sobremesa\\nModelo: Lámpara Articulada ...</td>\n",
       "      <td>$91.000,00</td>\n",
       "    </tr>\n",
       "    <tr>\n",
       "      <th>2</th>\n",
       "      <td>7801357246126</td>\n",
       "      <td>LÁMPARA DE CIELO PINTO NERO EGLO</td>\n",
       "      <td>Lámpara de Cielo Pinto Nero Eglo\\n\\nEglo, reco...</td>\n",
       "      <td>$64.000,00</td>\n",
       "    </tr>\n",
       "    <tr>\n",
       "      <th>3</th>\n",
       "      <td>7801470268777</td>\n",
       "      <td>LÁMPARA DE CIELO LORD EGLO</td>\n",
       "      <td>Lámpara de Cielo Lord Eglo\\n\\nEglo, reconocida...</td>\n",
       "      <td>$23.229,00</td>\n",
       "    </tr>\n",
       "    <tr>\n",
       "      <th>4</th>\n",
       "      <td>7801566649404</td>\n",
       "      <td>BASEMENT HOME LÁMPARA DE PIE TRIPODE NEGRO</td>\n",
       "      <td>Lámpara de Pie\\nModelo: Tripode\\nMarca: Baseme...</td>\n",
       "      <td>$78.347,00</td>\n",
       "    </tr>\n",
       "  </tbody>\n",
       "</table>\n",
       "</div>"
      ],
      "text/plain": [
       "     id_producto                                      nombre  \\\n",
       "0  7801130794486         LÁMPARA DE CIELO 3 LUCES PYTON EGLO   \n",
       "1  7801305809069  BASEMENT HOME LÁMPARA ARTICULADA SOBREMESA   \n",
       "2  7801357246126            LÁMPARA DE CIELO PINTO NERO EGLO   \n",
       "3  7801470268777                  LÁMPARA DE CIELO LORD EGLO   \n",
       "4  7801566649404  BASEMENT HOME LÁMPARA DE PIE TRIPODE NEGRO   \n",
       "\n",
       "                                         descripcion       precio  \n",
       "0  Lámpara de Techo 3 luces Pyton Eglo\\n\\nEglo, r...  $162.000,00  \n",
       "1  Lámpara Sobremesa\\nModelo: Lámpara Articulada ...   $91.000,00  \n",
       "2  Lámpara de Cielo Pinto Nero Eglo\\n\\nEglo, reco...   $64.000,00  \n",
       "3  Lámpara de Cielo Lord Eglo\\n\\nEglo, reconocida...   $23.229,00  \n",
       "4  Lámpara de Pie\\nModelo: Tripode\\nMarca: Baseme...   $78.347,00  "
      ]
     },
     "execution_count": 66,
     "metadata": {},
     "output_type": "execute_result"
    }
   ],
   "source": [
    "productos = pd.read_csv(\"Productos.csv\")\n",
    "productos.head()"
   ]
  },
  {
   "cell_type": "code",
   "execution_count": 84,
   "metadata": {
    "collapsed": false
   },
   "outputs": [
    {
     "data": {
      "text/html": [
       "<div>\n",
       "<table border=\"1\" class=\"dataframe\">\n",
       "  <thead>\n",
       "    <tr style=\"text-align: right;\">\n",
       "      <th></th>\n",
       "      <th>id_tienda</th>\n",
       "      <th>nombre</th>\n",
       "      <th>ubicacion</th>\n",
       "      <th>telefono</th>\n",
       "      <th>apertura</th>\n",
       "      <th>cierre</th>\n",
       "      <th>rubro</th>\n",
       "      <th>correo</th>\n",
       "    </tr>\n",
       "  </thead>\n",
       "  <tbody>\n",
       "    <tr>\n",
       "      <th>0</th>\n",
       "      <td>140</td>\n",
       "      <td>Hoyts Cinema</td>\n",
       "      <td>185 W. Waterfront Drive\\nHomestead\\nPittsburgh...</td>\n",
       "      <td>93422751</td>\n",
       "      <td>11:30</td>\n",
       "      <td>23:00</td>\n",
       "      <td>Entretención</td>\n",
       "      <td>sisyphus@me.com</td>\n",
       "    </tr>\n",
       "    <tr>\n",
       "      <th>1</th>\n",
       "      <td>141</td>\n",
       "      <td>Tom Bradley Airport</td>\n",
       "      <td>4840 E Indian School Rd\\nSte 101\\nPhoenix, AZ ...</td>\n",
       "      <td>90573044</td>\n",
       "      <td>0:00</td>\n",
       "      <td>23:59</td>\n",
       "      <td>Transporte</td>\n",
       "      <td>burns@msn.com</td>\n",
       "    </tr>\n",
       "    <tr>\n",
       "      <th>2</th>\n",
       "      <td>142</td>\n",
       "      <td>Metro</td>\n",
       "      <td>202 McClure St\\nDravosburg, PA 15034</td>\n",
       "      <td>87152577</td>\n",
       "      <td>0:00</td>\n",
       "      <td>23:59</td>\n",
       "      <td>Transporte</td>\n",
       "      <td>brainless@live.com</td>\n",
       "    </tr>\n",
       "    <tr>\n",
       "      <th>3</th>\n",
       "      <td>143</td>\n",
       "      <td>Shop 'n Save</td>\n",
       "      <td>1886 Homeville Rd\\nWest Mifflin, PA 15122</td>\n",
       "      <td>98077273</td>\n",
       "      <td>8:00</td>\n",
       "      <td>20:00</td>\n",
       "      <td>Comida</td>\n",
       "      <td>parents@yahoo.ca</td>\n",
       "    </tr>\n",
       "    <tr>\n",
       "      <th>4</th>\n",
       "      <td>144</td>\n",
       "      <td>McDonald's</td>\n",
       "      <td>Kennywood &amp; Hoffman\\nWest Mifflin, PA 15122</td>\n",
       "      <td>91016259</td>\n",
       "      <td>8:00</td>\n",
       "      <td>20:00</td>\n",
       "      <td>Comida</td>\n",
       "      <td>webteam@live.com</td>\n",
       "    </tr>\n",
       "  </tbody>\n",
       "</table>\n",
       "</div>"
      ],
      "text/plain": [
       "   id_tienda               nombre  \\\n",
       "0        140         Hoyts Cinema   \n",
       "1        141  Tom Bradley Airport   \n",
       "2        142                Metro   \n",
       "3        143         Shop 'n Save   \n",
       "4        144           McDonald's   \n",
       "\n",
       "                                           ubicacion  telefono apertura  \\\n",
       "0  185 W. Waterfront Drive\\nHomestead\\nPittsburgh...  93422751    11:30   \n",
       "1  4840 E Indian School Rd\\nSte 101\\nPhoenix, AZ ...  90573044     0:00   \n",
       "2               202 McClure St\\nDravosburg, PA 15034  87152577     0:00   \n",
       "3          1886 Homeville Rd\\nWest Mifflin, PA 15122  98077273     8:00   \n",
       "4        Kennywood & Hoffman\\nWest Mifflin, PA 15122  91016259     8:00   \n",
       "\n",
       "  cierre         rubro              correo  \n",
       "0  23:00  Entretención     sisyphus@me.com  \n",
       "1  23:59    Transporte       burns@msn.com  \n",
       "2  23:59    Transporte  brainless@live.com  \n",
       "3  20:00        Comida    parents@yahoo.ca  \n",
       "4  20:00        Comida    webteam@live.com  "
      ]
     },
     "execution_count": 84,
     "metadata": {},
     "output_type": "execute_result"
    }
   ],
   "source": [
    "tienda_servicios = pd.read_csv(\"Tienda de servicios.csv\")\n",
    "new_columns = tienda_servicios.columns.values\n",
    "new_columns[0] = 'id_tienda'\n",
    "tienda_servicios.columns = new_columns \n",
    "tienda_servicios.head()"
   ]
  },
  {
   "cell_type": "code",
   "execution_count": 74,
   "metadata": {
    "collapsed": false
   },
   "outputs": [
    {
     "data": {
      "text/html": [
       "<div>\n",
       "<table border=\"1\" class=\"dataframe\">\n",
       "  <thead>\n",
       "    <tr style=\"text-align: right;\">\n",
       "      <th></th>\n",
       "      <th>id_tienda</th>\n",
       "      <th>nombre</th>\n",
       "      <th>ubicacion</th>\n",
       "      <th>telefono</th>\n",
       "      <th>rubro</th>\n",
       "      <th>correo</th>\n",
       "      <th>id_tienda.1</th>\n",
       "      <th>id_producto</th>\n",
       "    </tr>\n",
       "  </thead>\n",
       "  <tbody>\n",
       "    <tr>\n",
       "      <th>0</th>\n",
       "      <td>127</td>\n",
       "      <td>Homecenter</td>\n",
       "      <td>8 Logan St\\nCarnegie\\nCarnegie, PA 15106</td>\n",
       "      <td>93430390</td>\n",
       "      <td>Construcción</td>\n",
       "      <td>mhassel@mac.com</td>\n",
       "      <td>127</td>\n",
       "      <td>7801130794486</td>\n",
       "    </tr>\n",
       "    <tr>\n",
       "      <th>1</th>\n",
       "      <td>127</td>\n",
       "      <td>Homecenter</td>\n",
       "      <td>8 Logan St\\nCarnegie\\nCarnegie, PA 15106</td>\n",
       "      <td>93430390</td>\n",
       "      <td>Construcción</td>\n",
       "      <td>mhassel@mac.com</td>\n",
       "      <td>127</td>\n",
       "      <td>7801305809069</td>\n",
       "    </tr>\n",
       "    <tr>\n",
       "      <th>2</th>\n",
       "      <td>134</td>\n",
       "      <td>Apple</td>\n",
       "      <td>215 E Main St\\nCarnegie\\nCarnegie, PA 15106</td>\n",
       "      <td>96273192</td>\n",
       "      <td>Tecnología</td>\n",
       "      <td>scotfl@gmail.com</td>\n",
       "      <td>134</td>\n",
       "      <td>7801357246126</td>\n",
       "    </tr>\n",
       "    <tr>\n",
       "      <th>3</th>\n",
       "      <td>133</td>\n",
       "      <td>Walmart</td>\n",
       "      <td>520 North Bell Avenue\\nCarnegie\\nCarnegie, PA ...</td>\n",
       "      <td>95380301</td>\n",
       "      <td>Supermercado</td>\n",
       "      <td>bjornk@hotmail.com</td>\n",
       "      <td>133</td>\n",
       "      <td>7801470268777</td>\n",
       "    </tr>\n",
       "    <tr>\n",
       "      <th>4</th>\n",
       "      <td>135</td>\n",
       "      <td>Jumbo</td>\n",
       "      <td>231 E Main St\\nCarnegie\\nCarnegie, PA 15106</td>\n",
       "      <td>82826916</td>\n",
       "      <td>Supermercado</td>\n",
       "      <td>sekiya@yahoo.ca</td>\n",
       "      <td>135</td>\n",
       "      <td>7801566649404</td>\n",
       "    </tr>\n",
       "  </tbody>\n",
       "</table>\n",
       "</div>"
      ],
      "text/plain": [
       "   id_tienda      nombre                                          ubicacion  \\\n",
       "0        127  Homecenter           8 Logan St\\nCarnegie\\nCarnegie, PA 15106   \n",
       "1        127  Homecenter           8 Logan St\\nCarnegie\\nCarnegie, PA 15106   \n",
       "2        134       Apple        215 E Main St\\nCarnegie\\nCarnegie, PA 15106   \n",
       "3        133     Walmart  520 North Bell Avenue\\nCarnegie\\nCarnegie, PA ...   \n",
       "4        135       Jumbo        231 E Main St\\nCarnegie\\nCarnegie, PA 15106   \n",
       "\n",
       "   telefono         rubro              correo  id_tienda.1    id_producto  \n",
       "0  93430390  Construcción     mhassel@mac.com          127  7801130794486  \n",
       "1  93430390  Construcción     mhassel@mac.com          127  7801305809069  \n",
       "2  96273192    Tecnología    scotfl@gmail.com          134  7801357246126  \n",
       "3  95380301  Supermercado  bjornk@hotmail.com          133  7801470268777  \n",
       "4  82826916  Supermercado     sekiya@yahoo.ca          135  7801566649404  "
      ]
     },
     "execution_count": 74,
     "metadata": {},
     "output_type": "execute_result"
    }
   ],
   "source": [
    "tienda_productos = pd.read_csv(\"tiendaProductoTienda.csv\")"
   ]
  },
  {
   "cell_type": "code",
   "execution_count": 75,
   "metadata": {
    "collapsed": false
   },
   "outputs": [
    {
     "data": {
      "text/html": [
       "<div>\n",
       "<table border=\"1\" class=\"dataframe\">\n",
       "  <thead>\n",
       "    <tr style=\"text-align: right;\">\n",
       "      <th></th>\n",
       "      <th>id_tienda</th>\n",
       "      <th>id_producto</th>\n",
       "    </tr>\n",
       "  </thead>\n",
       "  <tbody>\n",
       "    <tr>\n",
       "      <th>0</th>\n",
       "      <td>127</td>\n",
       "      <td>7801130794486</td>\n",
       "    </tr>\n",
       "    <tr>\n",
       "      <th>1</th>\n",
       "      <td>127</td>\n",
       "      <td>7801305809069</td>\n",
       "    </tr>\n",
       "    <tr>\n",
       "      <th>2</th>\n",
       "      <td>134</td>\n",
       "      <td>7801357246126</td>\n",
       "    </tr>\n",
       "    <tr>\n",
       "      <th>3</th>\n",
       "      <td>133</td>\n",
       "      <td>7801470268777</td>\n",
       "    </tr>\n",
       "    <tr>\n",
       "      <th>4</th>\n",
       "      <td>135</td>\n",
       "      <td>7801566649404</td>\n",
       "    </tr>\n",
       "  </tbody>\n",
       "</table>\n",
       "</div>"
      ],
      "text/plain": [
       "   id_tienda    id_producto\n",
       "0        127  7801130794486\n",
       "1        127  7801305809069\n",
       "2        134  7801357246126\n",
       "3        133  7801470268777\n",
       "4        135  7801566649404"
      ]
     },
     "execution_count": 75,
     "metadata": {},
     "output_type": "execute_result"
    }
   ],
   "source": [
    "vende_tienda_producto = pd.DataFrame(tienda_productos, columns = [\"id_tienda.1\", \"id_producto\"])\n",
    "tienda_productos = tienda_productos.drop([\"id_tienda.1\", \"id_producto\"], axis=1)\n",
    "tienda_productos = tienda_productos.drop_duplicates()\n",
    "new_columns = vende_tienda_producto.columns.values\n",
    "new_columns[0] = 'id_tienda'\n",
    "vende_tienda_producto.columns = new_columns \n",
    "vende_tienda_producto.head()"
   ]
  },
  {
   "cell_type": "code",
   "execution_count": 70,
   "metadata": {
    "collapsed": false
   },
   "outputs": [
    {
     "data": {
      "text/html": [
       "<div>\n",
       "<table border=\"1\" class=\"dataframe\">\n",
       "  <thead>\n",
       "    <tr style=\"text-align: right;\">\n",
       "      <th></th>\n",
       "      <th>id_tienda</th>\n",
       "      <th>nombre</th>\n",
       "      <th>ubicacion</th>\n",
       "      <th>telefono</th>\n",
       "      <th>rubro</th>\n",
       "      <th>correo</th>\n",
       "    </tr>\n",
       "  </thead>\n",
       "  <tbody>\n",
       "    <tr>\n",
       "      <th>0</th>\n",
       "      <td>127</td>\n",
       "      <td>Homecenter</td>\n",
       "      <td>8 Logan St\\nCarnegie\\nCarnegie, PA 15106</td>\n",
       "      <td>93430390</td>\n",
       "      <td>Construcción</td>\n",
       "      <td>mhassel@mac.com</td>\n",
       "    </tr>\n",
       "    <tr>\n",
       "      <th>2</th>\n",
       "      <td>134</td>\n",
       "      <td>Apple</td>\n",
       "      <td>215 E Main St\\nCarnegie\\nCarnegie, PA 15106</td>\n",
       "      <td>96273192</td>\n",
       "      <td>Tecnología</td>\n",
       "      <td>scotfl@gmail.com</td>\n",
       "    </tr>\n",
       "    <tr>\n",
       "      <th>3</th>\n",
       "      <td>133</td>\n",
       "      <td>Walmart</td>\n",
       "      <td>520 North Bell Avenue\\nCarnegie\\nCarnegie, PA ...</td>\n",
       "      <td>95380301</td>\n",
       "      <td>Supermercado</td>\n",
       "      <td>bjornk@hotmail.com</td>\n",
       "    </tr>\n",
       "    <tr>\n",
       "      <th>4</th>\n",
       "      <td>135</td>\n",
       "      <td>Jumbo</td>\n",
       "      <td>231 E Main St\\nCarnegie\\nCarnegie, PA 15106</td>\n",
       "      <td>82826916</td>\n",
       "      <td>Supermercado</td>\n",
       "      <td>sekiya@yahoo.ca</td>\n",
       "    </tr>\n",
       "    <tr>\n",
       "      <th>5</th>\n",
       "      <td>138</td>\n",
       "      <td>Assoto</td>\n",
       "      <td>2323 Greentree Rd\\nCarnegie, PA 15106</td>\n",
       "      <td>88600221</td>\n",
       "      <td>Health &amp; Medical</td>\n",
       "      <td>alfred@hotmail.com</td>\n",
       "    </tr>\n",
       "    <tr>\n",
       "      <th>6</th>\n",
       "      <td>122</td>\n",
       "      <td>American Thrift Center</td>\n",
       "      <td>1806 Homeville Rd\\nWest Mifflin, PA 15122</td>\n",
       "      <td>98427721</td>\n",
       "      <td>Shopping</td>\n",
       "      <td>pajas@comcast.net</td>\n",
       "    </tr>\n",
       "    <tr>\n",
       "      <th>7</th>\n",
       "      <td>130</td>\n",
       "      <td>Porto Fino</td>\n",
       "      <td>1201 Washington Ave\\nCarnegie, PA 15106</td>\n",
       "      <td>85252808</td>\n",
       "      <td>Construcción</td>\n",
       "      <td>esbeck@msn.com</td>\n",
       "    </tr>\n",
       "    <tr>\n",
       "      <th>8</th>\n",
       "      <td>119</td>\n",
       "      <td>Old Navy</td>\n",
       "      <td>560 E Waterfront Dr\\nHomestead\\nHomestead, PA ...</td>\n",
       "      <td>91206203</td>\n",
       "      <td>Shopping</td>\n",
       "      <td>jonadab@sbcglobal.net</td>\n",
       "    </tr>\n",
       "    <tr>\n",
       "      <th>9</th>\n",
       "      <td>137</td>\n",
       "      <td>North Face</td>\n",
       "      <td>Raceway Plz\\nCarnegie, PA 15106</td>\n",
       "      <td>85769830</td>\n",
       "      <td>Deportes</td>\n",
       "      <td>chaki@msn.com</td>\n",
       "    </tr>\n",
       "    <tr>\n",
       "      <th>11</th>\n",
       "      <td>123</td>\n",
       "      <td>Cindy Esser's Floral Shop</td>\n",
       "      <td>1122 E Carson St\\nSouth Side\\nPittsburgh, PA 1...</td>\n",
       "      <td>96108901</td>\n",
       "      <td>Flores y regalos</td>\n",
       "      <td>denism@icloud.com</td>\n",
       "    </tr>\n",
       "    <tr>\n",
       "      <th>14</th>\n",
       "      <td>132</td>\n",
       "      <td>Nike</td>\n",
       "      <td>202 3rd Ave\\nCarnegie\\nCarnegie, PA 15106</td>\n",
       "      <td>81941645</td>\n",
       "      <td>Shopping</td>\n",
       "      <td>iapetus@sbcglobal.net</td>\n",
       "    </tr>\n",
       "    <tr>\n",
       "      <th>16</th>\n",
       "      <td>126</td>\n",
       "      <td>Falabella</td>\n",
       "      <td>920 Forsythe Rd\\nCarnegie\\nCarnegie, PA 15106</td>\n",
       "      <td>91889265</td>\n",
       "      <td>Shopping</td>\n",
       "      <td>tjensen@yahoo.com</td>\n",
       "    </tr>\n",
       "    <tr>\n",
       "      <th>24</th>\n",
       "      <td>124</td>\n",
       "      <td>Red White &amp; Blue Thrift Store</td>\n",
       "      <td>935 Ohio River Blvd\\nAvalon\\nPittsburgh, PA 15202</td>\n",
       "      <td>82174114</td>\n",
       "      <td>Shopping</td>\n",
       "      <td>symbolic@yahoo.ca</td>\n",
       "    </tr>\n",
       "    <tr>\n",
       "      <th>26</th>\n",
       "      <td>120</td>\n",
       "      <td>Dick's Sporting Goods</td>\n",
       "      <td>The Waterfront\\n350 East Waterfront Drive\\nHom...</td>\n",
       "      <td>85585647</td>\n",
       "      <td>Deportes</td>\n",
       "      <td>ryanvm@aol.com</td>\n",
       "    </tr>\n",
       "    <tr>\n",
       "      <th>27</th>\n",
       "      <td>136</td>\n",
       "      <td>Loft</td>\n",
       "      <td>117 E Mall Plz\\nCarnegie\\nCarnegie, PA 15106</td>\n",
       "      <td>85321577</td>\n",
       "      <td>Deportes extremos</td>\n",
       "      <td>catalog@gmail.com</td>\n",
       "    </tr>\n",
       "    <tr>\n",
       "      <th>32</th>\n",
       "      <td>128</td>\n",
       "      <td>Casa Ideas</td>\n",
       "      <td>2100 Washington Pike\\nCarnegie, PA 15106</td>\n",
       "      <td>81879688</td>\n",
       "      <td>Interiores</td>\n",
       "      <td>giafly@sbcglobal.net</td>\n",
       "    </tr>\n",
       "    <tr>\n",
       "      <th>34</th>\n",
       "      <td>125</td>\n",
       "      <td>Paul's Clock Repair</td>\n",
       "      <td>1234 Straka St\\nCrafton Heights\\nPittsburgh, P...</td>\n",
       "      <td>98233816</td>\n",
       "      <td>Shopping</td>\n",
       "      <td>dkrishna@msn.com</td>\n",
       "    </tr>\n",
       "    <tr>\n",
       "      <th>35</th>\n",
       "      <td>139</td>\n",
       "      <td>Rapa Nui</td>\n",
       "      <td>214 E Main St\\nCarnegie\\nCarnegie, PA 15106</td>\n",
       "      <td>84388818</td>\n",
       "      <td>Deportes extremos</td>\n",
       "      <td>mddallara@yahoo.com</td>\n",
       "    </tr>\n",
       "    <tr>\n",
       "      <th>42</th>\n",
       "      <td>131</td>\n",
       "      <td>Paddy's House</td>\n",
       "      <td>1073 Washington Ave\\nCarnegie, PA 15106</td>\n",
       "      <td>83941337</td>\n",
       "      <td>Construcción</td>\n",
       "      <td>frostman@yahoo.com</td>\n",
       "    </tr>\n",
       "    <tr>\n",
       "      <th>49</th>\n",
       "      <td>121</td>\n",
       "      <td>Big Bang Bicycles</td>\n",
       "      <td>347 Lebanon Rd\\nWest Mifflin, PA 15122</td>\n",
       "      <td>88393366</td>\n",
       "      <td>Deportes</td>\n",
       "      <td>mjewell@optonline.net</td>\n",
       "    </tr>\n",
       "    <tr>\n",
       "      <th>53</th>\n",
       "      <td>129</td>\n",
       "      <td>Adidas</td>\n",
       "      <td>2100 Washington Pike\\nCarnegie, PA 15106</td>\n",
       "      <td>84935045</td>\n",
       "      <td>Shopping</td>\n",
       "      <td>martyloo@hotmail.com</td>\n",
       "    </tr>\n",
       "  </tbody>\n",
       "</table>\n",
       "</div>"
      ],
      "text/plain": [
       "    id_tienda                         nombre  \\\n",
       "0         127                     Homecenter   \n",
       "2         134                          Apple   \n",
       "3         133                        Walmart   \n",
       "4         135                          Jumbo   \n",
       "5         138                         Assoto   \n",
       "6         122         American Thrift Center   \n",
       "7         130                     Porto Fino   \n",
       "8         119                       Old Navy   \n",
       "9         137                     North Face   \n",
       "11        123      Cindy Esser's Floral Shop   \n",
       "14        132                           Nike   \n",
       "16        126                      Falabella   \n",
       "24        124  Red White & Blue Thrift Store   \n",
       "26        120          Dick's Sporting Goods   \n",
       "27        136                           Loft   \n",
       "32        128                     Casa Ideas   \n",
       "34        125            Paul's Clock Repair   \n",
       "35        139                       Rapa Nui   \n",
       "42        131                  Paddy's House   \n",
       "49        121              Big Bang Bicycles   \n",
       "53        129                         Adidas   \n",
       "\n",
       "                                            ubicacion  telefono  \\\n",
       "0            8 Logan St\\nCarnegie\\nCarnegie, PA 15106  93430390   \n",
       "2         215 E Main St\\nCarnegie\\nCarnegie, PA 15106  96273192   \n",
       "3   520 North Bell Avenue\\nCarnegie\\nCarnegie, PA ...  95380301   \n",
       "4         231 E Main St\\nCarnegie\\nCarnegie, PA 15106  82826916   \n",
       "5               2323 Greentree Rd\\nCarnegie, PA 15106  88600221   \n",
       "6           1806 Homeville Rd\\nWest Mifflin, PA 15122  98427721   \n",
       "7             1201 Washington Ave\\nCarnegie, PA 15106  85252808   \n",
       "8   560 E Waterfront Dr\\nHomestead\\nHomestead, PA ...  91206203   \n",
       "9                     Raceway Plz\\nCarnegie, PA 15106  85769830   \n",
       "11  1122 E Carson St\\nSouth Side\\nPittsburgh, PA 1...  96108901   \n",
       "14          202 3rd Ave\\nCarnegie\\nCarnegie, PA 15106  81941645   \n",
       "16      920 Forsythe Rd\\nCarnegie\\nCarnegie, PA 15106  91889265   \n",
       "24  935 Ohio River Blvd\\nAvalon\\nPittsburgh, PA 15202  82174114   \n",
       "26  The Waterfront\\n350 East Waterfront Drive\\nHom...  85585647   \n",
       "27       117 E Mall Plz\\nCarnegie\\nCarnegie, PA 15106  85321577   \n",
       "32           2100 Washington Pike\\nCarnegie, PA 15106  81879688   \n",
       "34  1234 Straka St\\nCrafton Heights\\nPittsburgh, P...  98233816   \n",
       "35        214 E Main St\\nCarnegie\\nCarnegie, PA 15106  84388818   \n",
       "42            1073 Washington Ave\\nCarnegie, PA 15106  83941337   \n",
       "49             347 Lebanon Rd\\nWest Mifflin, PA 15122  88393366   \n",
       "53           2100 Washington Pike\\nCarnegie, PA 15106  84935045   \n",
       "\n",
       "                rubro                 correo  \n",
       "0        Construcción        mhassel@mac.com  \n",
       "2          Tecnología       scotfl@gmail.com  \n",
       "3        Supermercado     bjornk@hotmail.com  \n",
       "4        Supermercado        sekiya@yahoo.ca  \n",
       "5    Health & Medical     alfred@hotmail.com  \n",
       "6            Shopping      pajas@comcast.net  \n",
       "7        Construcción         esbeck@msn.com  \n",
       "8            Shopping  jonadab@sbcglobal.net  \n",
       "9            Deportes          chaki@msn.com  \n",
       "11   Flores y regalos      denism@icloud.com  \n",
       "14           Shopping  iapetus@sbcglobal.net  \n",
       "16           Shopping      tjensen@yahoo.com  \n",
       "24           Shopping      symbolic@yahoo.ca  \n",
       "26           Deportes         ryanvm@aol.com  \n",
       "27  Deportes extremos      catalog@gmail.com  \n",
       "32         Interiores   giafly@sbcglobal.net  \n",
       "34           Shopping       dkrishna@msn.com  \n",
       "35  Deportes extremos    mddallara@yahoo.com  \n",
       "42       Construcción     frostman@yahoo.com  \n",
       "49           Deportes  mjewell@optonline.net  \n",
       "53           Shopping   martyloo@hotmail.com  "
      ]
     },
     "execution_count": 70,
     "metadata": {},
     "output_type": "execute_result"
    }
   ],
   "source": [
    "tienda_productos"
   ]
  },
  {
   "cell_type": "code",
   "execution_count": 76,
   "metadata": {
    "collapsed": false
   },
   "outputs": [
    {
     "data": {
      "text/html": [
       "<div>\n",
       "<table border=\"1\" class=\"dataframe\">\n",
       "  <thead>\n",
       "    <tr style=\"text-align: right;\">\n",
       "      <th></th>\n",
       "      <th>id_tienda</th>\n",
       "      <th>id_servicio</th>\n",
       "    </tr>\n",
       "  </thead>\n",
       "  <tbody>\n",
       "    <tr>\n",
       "      <th>0</th>\n",
       "      <td>143</td>\n",
       "      <td>0</td>\n",
       "    </tr>\n",
       "    <tr>\n",
       "      <th>1</th>\n",
       "      <td>144</td>\n",
       "      <td>0</td>\n",
       "    </tr>\n",
       "    <tr>\n",
       "      <th>2</th>\n",
       "      <td>145</td>\n",
       "      <td>0</td>\n",
       "    </tr>\n",
       "    <tr>\n",
       "      <th>3</th>\n",
       "      <td>146</td>\n",
       "      <td>0</td>\n",
       "    </tr>\n",
       "    <tr>\n",
       "      <th>4</th>\n",
       "      <td>158</td>\n",
       "      <td>0</td>\n",
       "    </tr>\n",
       "  </tbody>\n",
       "</table>\n",
       "</div>"
      ],
      "text/plain": [
       "   id_tienda  id_servicio\n",
       "0        143            0\n",
       "1        144            0\n",
       "2        145            0\n",
       "3        146            0\n",
       "4        158            0"
      ]
     },
     "execution_count": 76,
     "metadata": {},
     "output_type": "execute_result"
    }
   ],
   "source": [
    "servicios_tienda = pd.read_csv(\"TiendaServicioProducto.csv\")\n",
    "new_columns = servicios_tienda.columns.values\n",
    "new_columns[0] = 'id_tienda'\n",
    "servicios_tienda.columns = new_columns \n",
    "servicios_tienda.head()"
   ]
  },
  {
   "cell_type": "code",
   "execution_count": 72,
   "metadata": {
    "collapsed": false
   },
   "outputs": [
    {
     "data": {
      "text/html": [
       "<div>\n",
       "<table border=\"1\" class=\"dataframe\">\n",
       "  <thead>\n",
       "    <tr style=\"text-align: right;\">\n",
       "      <th></th>\n",
       "      <th>id_usuario</th>\n",
       "      <th>apellido</th>\n",
       "      <th>nombre</th>\n",
       "      <th>correo</th>\n",
       "      <th>sexo</th>\n",
       "      <th>edad</th>\n",
       "    </tr>\n",
       "  </thead>\n",
       "  <tbody>\n",
       "    <tr>\n",
       "      <th>0</th>\n",
       "      <td>0</td>\n",
       "      <td>ABUSLEME</td>\n",
       "      <td>RAFAEL ANTONIO</td>\n",
       "      <td>raabusleme@uc.cl</td>\n",
       "      <td>M</td>\n",
       "      <td>20</td>\n",
       "    </tr>\n",
       "    <tr>\n",
       "      <th>1</th>\n",
       "      <td>1</td>\n",
       "      <td>AGUILLÓN</td>\n",
       "      <td>JUAN JOSÉ ARTURO</td>\n",
       "      <td>jjaguillon@uc.cl</td>\n",
       "      <td>M</td>\n",
       "      <td>19</td>\n",
       "    </tr>\n",
       "    <tr>\n",
       "      <th>2</th>\n",
       "      <td>2</td>\n",
       "      <td>ALLIENDE</td>\n",
       "      <td>MARÍA JOSEFINA</td>\n",
       "      <td>moalliende@uc.cl</td>\n",
       "      <td>F</td>\n",
       "      <td>18</td>\n",
       "    </tr>\n",
       "    <tr>\n",
       "      <th>3</th>\n",
       "      <td>3</td>\n",
       "      <td>ÁLVAREZ</td>\n",
       "      <td>VALENTINA JAVIERA</td>\n",
       "      <td>vjalvarez@uc.cl</td>\n",
       "      <td>F</td>\n",
       "      <td>23</td>\n",
       "    </tr>\n",
       "    <tr>\n",
       "      <th>4</th>\n",
       "      <td>4</td>\n",
       "      <td>ÁLVAREZ</td>\n",
       "      <td>TOMÁS</td>\n",
       "      <td>talvarez2@uc.cl</td>\n",
       "      <td>M</td>\n",
       "      <td>10</td>\n",
       "    </tr>\n",
       "  </tbody>\n",
       "</table>\n",
       "</div>"
      ],
      "text/plain": [
       "   id_usuario  apellido             nombre            correo sexo  edad\n",
       "0           0  ABUSLEME     RAFAEL ANTONIO  raabusleme@uc.cl    M    20\n",
       "1           1  AGUILLÓN   JUAN JOSÉ ARTURO  jjaguillon@uc.cl    M    19\n",
       "2           2  ALLIENDE     MARÍA JOSEFINA  moalliende@uc.cl    F    18\n",
       "3           3   ÁLVAREZ  VALENTINA JAVIERA   vjalvarez@uc.cl    F    23\n",
       "4           4   ÁLVAREZ              TOMÁS   talvarez2@uc.cl    M    10"
      ]
     },
     "execution_count": 72,
     "metadata": {},
     "output_type": "execute_result"
    }
   ],
   "source": [
    "usuarios = pd.read_csv(\"Usuarios.csv\")\n",
    "usuarios.head()"
   ]
  },
  {
   "cell_type": "code",
   "execution_count": 93,
   "metadata": {
    "collapsed": true
   },
   "outputs": [],
   "source": [
    "usuarios.to_csv(\"usuarios.csv\")"
   ]
  },
  {
   "cell_type": "code",
   "execution_count": 81,
   "metadata": {
    "collapsed": true
   },
   "outputs": [],
   "source": [
    "servicios_tienda.to_csv(\"vende_tienda_servicios.csv\")"
   ]
  },
  {
   "cell_type": "code",
   "execution_count": 79,
   "metadata": {
    "collapsed": true
   },
   "outputs": [],
   "source": [
    "tienda_productos.to_csv(\"tienda_productos.csv\")"
   ]
  },
  {
   "cell_type": "code",
   "execution_count": 95,
   "metadata": {
    "collapsed": true
   },
   "outputs": [],
   "source": [
    "vende_tienda_producto.to_csv(\"vende_tienda_productos.csv\")"
   ]
  },
  {
   "cell_type": "code",
   "execution_count": 85,
   "metadata": {
    "collapsed": false
   },
   "outputs": [],
   "source": [
    "tienda_servicios.to_csv(\"tienda_servicios.csv\")"
   ]
  },
  {
   "cell_type": "code",
   "execution_count": 94,
   "metadata": {
    "collapsed": true
   },
   "outputs": [],
   "source": [
    "productos.to_csv(\"productos.csv\")"
   ]
  },
  {
   "cell_type": "code",
   "execution_count": 87,
   "metadata": {
    "collapsed": true
   },
   "outputs": [],
   "source": [
    "servicios.to_csv(\"servicios.csv\")"
   ]
  },
  {
   "cell_type": "code",
   "execution_count": 88,
   "metadata": {
    "collapsed": true
   },
   "outputs": [],
   "source": [
    "compra_servicios.to_csv(\"compras_servicios.csv\")"
   ]
  },
  {
   "cell_type": "code",
   "execution_count": 89,
   "metadata": {
    "collapsed": true
   },
   "outputs": [],
   "source": [
    "compra_productos.to_csv(\"compras_productos.csv\")"
   ]
  },
  {
   "cell_type": "code",
   "execution_count": 91,
   "metadata": {
    "collapsed": false
   },
   "outputs": [],
   "source": [
    "detalle_compra_producto.to_csv(\"detalle_compra_productos.csv\")"
   ]
  },
  {
   "cell_type": "code",
   "execution_count": 92,
   "metadata": {
    "collapsed": true
   },
   "outputs": [],
   "source": [
    "detale_compra_servicio.to_csv(\"detalle_compra_servicios.csv\")"
   ]
  },
  {
   "cell_type": "code",
   "execution_count": null,
   "metadata": {
    "collapsed": true
   },
   "outputs": [],
   "source": []
  }
 ],
 "metadata": {
  "kernelspec": {
   "display_name": "Python 3",
   "language": "python",
   "name": "python3"
  },
  "language_info": {
   "codemirror_mode": {
    "name": "ipython",
    "version": 3
   },
   "file_extension": ".py",
   "mimetype": "text/x-python",
   "name": "python",
   "nbconvert_exporter": "python",
   "pygments_lexer": "ipython3",
   "version": "3.6.0"
  }
 },
 "nbformat": 4,
 "nbformat_minor": 2
}
